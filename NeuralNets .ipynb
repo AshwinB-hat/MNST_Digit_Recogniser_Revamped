{
 "cells": [
  {
   "cell_type": "code",
   "execution_count": 2,
   "metadata": {},
   "outputs": [],
   "source": [
    "import tensorflow as tf \n",
    "import pandas as pd \n",
    "import numpy as np \n",
    "import matplotlib.pyplot as plt "
   ]
  },
  {
   "cell_type": "code",
   "execution_count": 3,
   "metadata": {},
   "outputs": [],
   "source": [
    "def load_data(mode='train'):\n",
    "    from tensorflow.examples.tutorials.mnist import input_data\n",
    "    mnist = input_data.read_data_sets(\"MNIST_data/\",one_hot=True)\n",
    "    if (mode=='train'):\n",
    "        x_train,y_train,x_valid,y_valid = mnist.train.images,mnist.train.labels,mnist.validation.images,mnist.validation.labels\n",
    "        return x_train,y_train,x_valid,y_valid\n",
    "    else:\n",
    "        x_test,y_test = mnist.test.images,mnist.test.labels\n",
    "        return x_test,y_test"
   ]
  },
  {
   "cell_type": "code",
   "execution_count": 4,
   "metadata": {},
   "outputs": [
    {
     "name": "stdout",
     "output_type": "stream",
     "text": [
      "WARNING:tensorflow:From <ipython-input-3-19787b023009>:3: read_data_sets (from tensorflow.contrib.learn.python.learn.datasets.mnist) is deprecated and will be removed in a future version.\n",
      "Instructions for updating:\n",
      "Please use alternatives such as official/mnist/dataset.py from tensorflow/models.\n",
      "WARNING:tensorflow:From C:\\Users\\abhat\\AppData\\Local\\Continuum\\miniconda3\\lib\\site-packages\\tensorflow\\contrib\\learn\\python\\learn\\datasets\\mnist.py:260: maybe_download (from tensorflow.contrib.learn.python.learn.datasets.base) is deprecated and will be removed in a future version.\n",
      "Instructions for updating:\n",
      "Please write your own downloading logic.\n",
      "WARNING:tensorflow:From C:\\Users\\abhat\\AppData\\Local\\Continuum\\miniconda3\\lib\\site-packages\\tensorflow\\contrib\\learn\\python\\learn\\datasets\\mnist.py:262: extract_images (from tensorflow.contrib.learn.python.learn.datasets.mnist) is deprecated and will be removed in a future version.\n",
      "Instructions for updating:\n",
      "Please use tf.data to implement this functionality.\n",
      "Extracting MNIST_data/train-images-idx3-ubyte.gz\n",
      "WARNING:tensorflow:From C:\\Users\\abhat\\AppData\\Local\\Continuum\\miniconda3\\lib\\site-packages\\tensorflow\\contrib\\learn\\python\\learn\\datasets\\mnist.py:267: extract_labels (from tensorflow.contrib.learn.python.learn.datasets.mnist) is deprecated and will be removed in a future version.\n",
      "Instructions for updating:\n",
      "Please use tf.data to implement this functionality.\n",
      "Extracting MNIST_data/train-labels-idx1-ubyte.gz\n",
      "WARNING:tensorflow:From C:\\Users\\abhat\\AppData\\Local\\Continuum\\miniconda3\\lib\\site-packages\\tensorflow\\contrib\\learn\\python\\learn\\datasets\\mnist.py:110: dense_to_one_hot (from tensorflow.contrib.learn.python.learn.datasets.mnist) is deprecated and will be removed in a future version.\n",
      "Instructions for updating:\n",
      "Please use tf.one_hot on tensors.\n",
      "Extracting MNIST_data/t10k-images-idx3-ubyte.gz\n",
      "Extracting MNIST_data/t10k-labels-idx1-ubyte.gz\n",
      "WARNING:tensorflow:From C:\\Users\\abhat\\AppData\\Local\\Continuum\\miniconda3\\lib\\site-packages\\tensorflow\\contrib\\learn\\python\\learn\\datasets\\mnist.py:290: DataSet.__init__ (from tensorflow.contrib.learn.python.learn.datasets.mnist) is deprecated and will be removed in a future version.\n",
      "Instructions for updating:\n",
      "Please use alternatives such as official/mnist/dataset.py from tensorflow/models.\n"
     ]
    }
   ],
   "source": [
    "x_train,y_train,x_valid,y_valid=load_data()"
   ]
  },
  {
   "cell_type": "code",
   "execution_count": 16,
   "metadata": {},
   "outputs": [],
   "source": [
    "lr=0.001\n",
    "epochs=10\n",
    "batch_size=100\n",
    "display_freq=100\n",
    "\n",
    "img_h=img_w=28\n",
    "img_flat = img_h*img_w\n",
    "n_classes=10\n",
    "#number of units in the hidden layer \n",
    "h1 = 200"
   ]
  },
  {
   "cell_type": "code",
   "execution_count": 17,
   "metadata": {},
   "outputs": [],
   "source": [
    "def weight_variable(name, shape):\n",
    "    initer = tf.truncated_normal_initializer(stddev=0.01)\n",
    "    return tf.get_variable('W_' + name,\n",
    "                           dtype=tf.float32,\n",
    "                           shape=shape,\n",
    "                           initializer=initer)\n",
    "\n",
    "\n",
    "\n",
    "def bias_variable(name, shape):\n",
    "    initial = tf.constant(0., shape=shape, dtype=tf.float32)\n",
    "    return tf.get_variable('b_' + name,\n",
    "                           dtype=tf.float32,\n",
    "                           initializer=initial)\n",
    "\n",
    "def fc_layer(x,num_nodes,name,use_relu=True):\n",
    "    in_dim = x.get_shape()[1]\n",
    "    W=weight_variable(name,shape=[in_dim,num_nodes])\n",
    "    b=bias_variable(name,[num_nodes])\n",
    "    layer=tf.matmul(x,W)\n",
    "    layer+=b\n",
    "    if use_relu:\n",
    "        layer = tf.nn.relu(layer)\n",
    "    return layer\n",
    "def next_batch(x,y,start,end):\n",
    "    return x[start:end],y[start:end]"
   ]
  },
  {
   "cell_type": "markdown",
   "metadata": {},
   "source": [
    "# Creating the Graph"
   ]
  },
  {
   "cell_type": "code",
   "execution_count": 12,
   "metadata": {},
   "outputs": [
    {
     "name": "stdout",
     "output_type": "stream",
     "text": [
      "WARNING:tensorflow:From <ipython-input-12-93f4bd58643b>:6: softmax_cross_entropy_with_logits (from tensorflow.python.ops.nn_ops) is deprecated and will be removed in a future version.\n",
      "Instructions for updating:\n",
      "\n",
      "Future major versions of TensorFlow will allow gradients to flow\n",
      "into the labels input on backprop by default.\n",
      "\n",
      "See @{tf.nn.softmax_cross_entropy_with_logits_v2}.\n",
      "\n"
     ]
    }
   ],
   "source": [
    "x = tf.placeholder(tf.float32,shape=[None,img_flat],name='X')\n",
    "y = tf.placeholder(tf.float32,shape=[None,n_classes],name='Y')\n",
    "fc1 = fc_layer(x,h1,'FC1',use_relu=True)\n",
    "output_logits = fc_layer(fc1,n_classes,'OUT',use_relu=False)\n",
    "\n",
    "loss = tf.reduce_mean(tf.nn.softmax_cross_entropy_with_logits(labels=y,logits=output_logits),name='loss')\n",
    "optimizer = tf.train.AdamOptimizer(learning_rate=lr,name='Adam-op').minimize(loss)\n",
    "correct_prediction = tf.equal(tf.argmax(output_logits,1),tf.argmax(y,1),name='correct_prediction')\n",
    "accuracy = tf.reduce_mean(tf.cast(correct_prediction,tf.float32),name='accuracy')\n",
    "\n",
    "cls_prediction = tf.argmax(output_logits,axis=1,name='predictions')\n",
    "\n",
    "init = tf.global_variables_initializer()"
   ]
  },
  {
   "cell_type": "code",
   "execution_count": 19,
   "metadata": {},
   "outputs": [
    {
     "name": "stderr",
     "output_type": "stream",
     "text": [
      "C:\\Users\\abhat\\AppData\\Local\\Continuum\\miniconda3\\lib\\site-packages\\tensorflow\\python\\client\\session.py:1714: UserWarning: An interactive session is already active. This can cause out-of-memory errors in some cases. You must explicitly call `InteractiveSession.close()` to release resources held by the other session(s).\n",
      "  warnings.warn('An interactive session is already active. This can '\n"
     ]
    },
    {
     "name": "stdout",
     "output_type": "stream",
     "text": [
      "Training epoch: 1\n",
      "iter   0:\t Loss=nan,\tTraining Accuracy=nan%\n",
      "iter 100:\t Loss=0.44,\tTraining Accuracy=91.0%\n",
      "iter 200:\t Loss=0.29,\tTraining Accuracy=92.5%\n",
      "iter 300:\t Loss=0.26,\tTraining Accuracy=93.7%\n",
      "iter 400:\t Loss=0.24,\tTraining Accuracy=92.8%\n",
      "iter 500:\t Loss=0.18,\tTraining Accuracy=95.0%\n",
      "---------------------------------------------------------\n",
      "Epoch: 1, validation loss: 0.22, validation accuracy: 93.8%\n",
      "---------------------------------------------------------\n",
      "Training epoch: 2\n",
      "iter   0:\t Loss=nan,\tTraining Accuracy=nan%\n",
      "iter 100:\t Loss=0.18,\tTraining Accuracy=96.0%\n",
      "iter 200:\t Loss=0.13,\tTraining Accuracy=96.5%\n",
      "iter 300:\t Loss=0.17,\tTraining Accuracy=95.0%\n",
      "iter 400:\t Loss=0.13,\tTraining Accuracy=95.7%\n",
      "iter 500:\t Loss=0.12,\tTraining Accuracy=96.4%\n",
      "---------------------------------------------------------\n",
      "Epoch: 2, validation loss: 0.15, validation accuracy: 95.7%\n",
      "---------------------------------------------------------\n",
      "Training epoch: 3\n",
      "iter   0:\t Loss=nan,\tTraining Accuracy=nan%\n",
      "iter 100:\t Loss=0.14,\tTraining Accuracy=97.0%\n",
      "iter 200:\t Loss=0.09,\tTraining Accuracy=97.0%\n",
      "iter 300:\t Loss=0.13,\tTraining Accuracy=96.0%\n",
      "iter 400:\t Loss=0.09,\tTraining Accuracy=97.5%\n",
      "iter 500:\t Loss=0.10,\tTraining Accuracy=96.8%\n",
      "---------------------------------------------------------\n",
      "Epoch: 3, validation loss: 0.12, validation accuracy: 96.2%\n",
      "---------------------------------------------------------\n",
      "Training epoch: 4\n",
      "iter   0:\t Loss=nan,\tTraining Accuracy=nan%\n",
      "iter 100:\t Loss=0.10,\tTraining Accuracy=98.0%\n",
      "iter 200:\t Loss=0.07,\tTraining Accuracy=98.0%\n",
      "iter 300:\t Loss=0.11,\tTraining Accuracy=97.0%\n",
      "iter 400:\t Loss=0.08,\tTraining Accuracy=97.5%\n",
      "iter 500:\t Loss=0.08,\tTraining Accuracy=97.4%\n",
      "---------------------------------------------------------\n",
      "Epoch: 4, validation loss: 0.11, validation accuracy: 96.5%\n",
      "---------------------------------------------------------\n",
      "Training epoch: 5\n",
      "iter   0:\t Loss=nan,\tTraining Accuracy=nan%\n",
      "iter 100:\t Loss=0.07,\tTraining Accuracy=98.0%\n",
      "iter 200:\t Loss=0.05,\tTraining Accuracy=98.5%\n",
      "iter 300:\t Loss=0.09,\tTraining Accuracy=97.3%\n",
      "iter 400:\t Loss=0.06,\tTraining Accuracy=98.0%\n",
      "iter 500:\t Loss=0.06,\tTraining Accuracy=98.2%\n",
      "---------------------------------------------------------\n",
      "Epoch: 5, validation loss: 0.10, validation accuracy: 96.7%\n",
      "---------------------------------------------------------\n",
      "Training epoch: 6\n",
      "iter   0:\t Loss=nan,\tTraining Accuracy=nan%\n",
      "iter 100:\t Loss=0.05,\tTraining Accuracy=99.0%\n",
      "iter 200:\t Loss=0.04,\tTraining Accuracy=98.5%\n",
      "iter 300:\t Loss=0.07,\tTraining Accuracy=97.3%\n",
      "iter 400:\t Loss=0.05,\tTraining Accuracy=98.3%\n",
      "iter 500:\t Loss=0.05,\tTraining Accuracy=98.8%\n",
      "---------------------------------------------------------\n",
      "Epoch: 6, validation loss: 0.09, validation accuracy: 97.0%\n",
      "---------------------------------------------------------\n",
      "Training epoch: 7\n",
      "iter   0:\t Loss=nan,\tTraining Accuracy=nan%\n",
      "iter 100:\t Loss=0.04,\tTraining Accuracy=99.0%\n",
      "iter 200:\t Loss=0.04,\tTraining Accuracy=98.0%\n",
      "iter 300:\t Loss=0.06,\tTraining Accuracy=97.7%\n",
      "iter 400:\t Loss=0.04,\tTraining Accuracy=98.5%\n",
      "iter 500:\t Loss=0.04,\tTraining Accuracy=99.2%\n",
      "---------------------------------------------------------\n",
      "Epoch: 7, validation loss: 0.09, validation accuracy: 97.1%\n",
      "---------------------------------------------------------\n",
      "Training epoch: 8\n",
      "iter   0:\t Loss=nan,\tTraining Accuracy=nan%\n",
      "iter 100:\t Loss=0.03,\tTraining Accuracy=98.0%\n",
      "iter 200:\t Loss=0.03,\tTraining Accuracy=99.0%\n",
      "iter 300:\t Loss=0.05,\tTraining Accuracy=99.0%\n",
      "iter 400:\t Loss=0.04,\tTraining Accuracy=98.8%\n",
      "iter 500:\t Loss=0.03,\tTraining Accuracy=99.4%\n",
      "---------------------------------------------------------\n",
      "Epoch: 8, validation loss: 0.09, validation accuracy: 97.3%\n",
      "---------------------------------------------------------\n",
      "Training epoch: 9\n",
      "iter   0:\t Loss=nan,\tTraining Accuracy=nan%\n",
      "iter 100:\t Loss=0.03,\tTraining Accuracy=99.0%\n",
      "iter 200:\t Loss=0.03,\tTraining Accuracy=99.0%\n",
      "iter 300:\t Loss=0.04,\tTraining Accuracy=99.0%\n",
      "iter 400:\t Loss=0.03,\tTraining Accuracy=98.8%\n",
      "iter 500:\t Loss=0.03,\tTraining Accuracy=99.4%\n",
      "---------------------------------------------------------\n",
      "Epoch: 9, validation loss: 0.09, validation accuracy: 97.4%\n",
      "---------------------------------------------------------\n",
      "Training epoch: 10\n",
      "iter   0:\t Loss=nan,\tTraining Accuracy=nan%\n",
      "iter 100:\t Loss=0.02,\tTraining Accuracy=100.0%\n",
      "iter 200:\t Loss=0.02,\tTraining Accuracy=99.5%\n",
      "iter 300:\t Loss=0.03,\tTraining Accuracy=99.3%\n",
      "iter 400:\t Loss=0.02,\tTraining Accuracy=99.0%\n",
      "iter 500:\t Loss=0.02,\tTraining Accuracy=99.6%\n",
      "---------------------------------------------------------\n",
      "Epoch: 10, validation loss: 0.09, validation accuracy: 97.4%\n",
      "---------------------------------------------------------\n"
     ]
    }
   ],
   "source": [
    "sess= tf.InteractiveSession()\n",
    "sess.run(init)\n",
    "\n",
    "num_iter = int(y_train.shape[0]/ batch_size)\n",
    "for epoch in range(epochs):\n",
    "    print('Training epoch: {}'.format(epoch+1))\n",
    "    for iteration in range(num_iter):\n",
    "        batch_x,batch_y = next_batch(x_train,y_train,batch_size*iteration,(batch_size+1)*iteration)\n",
    "        feed_dict_batch = {x:batch_x,y:batch_y}\n",
    "        sess.run(optimizer,feed_dict=feed_dict_batch)\n",
    "        \n",
    "        if iteration % display_freq == 0:\n",
    "            # Calculate and display the batch loss and accuracy\n",
    "            loss_batch, acc_batch = sess.run([loss, accuracy],\n",
    "                                             feed_dict=feed_dict_batch)\n",
    "            print(\"iter {0:3d}:\\t Loss={1:.2f},\\tTraining Accuracy={2:.01%}\".\n",
    "                  format(iteration, loss_batch, acc_batch))\n",
    "\n",
    "    # Run validation after every epoch\n",
    "    feed_dict_valid = {x: x_valid, y: y_valid}\n",
    "    loss_valid, acc_valid = sess.run([loss, accuracy], feed_dict=feed_dict_valid)\n",
    "    print('---------------------------------------------------------')\n",
    "    print(\"Epoch: {0}, validation loss: {1:.2f}, validation accuracy: {2:.01%}\".\n",
    "          format(epoch + 1, loss_valid, acc_valid))\n",
    "    print('---------------------------------------------------------')\n",
    "        "
   ]
  },
  {
   "cell_type": "markdown",
   "metadata": {},
   "source": [
    "# Testing the Model"
   ]
  },
  {
   "cell_type": "code",
   "execution_count": 20,
   "metadata": {},
   "outputs": [],
   "source": [
    "def plot_images(images,cls_true,cls_pred=None,title=None):\n",
    "    fig,axes = plt.subplots(3,3,figsize=(9,9))\n",
    "    fig.subplots_adjust(hspace=0.3,wspace=0.3)\n",
    "    img_h=img_w=np.sqrt(images.shape[-1]).astype(int)\n",
    "    for i,ax in enumerate(axes.flat):\n",
    "        ax.imshow(images[i].reshape((img_h,img_w)),cmap='binary')\n",
    "        if(cls_pred is None):\n",
    "            ax_title = \"True: {0}\".format(cls_true[i])\n",
    "        else:\n",
    "            ax_title=\"True: {0}, Pred: {1}\".format(cls_true[i],cls_pred[i])\n",
    "        ax.set_title(ax_title)\n",
    "        \n",
    "        ax.set_xticks([])\n",
    "        ax.set_yticks([])\n",
    "    if title:\n",
    "        plt.suptitle(title,size=20)\n",
    "    plt.show()\n",
    "\n",
    "def plot_example_errors(images,cls_true,cls_pred,title=None):\n",
    "    incorrect = np.logical_not(np.equal(cls_pred,cls_true))\n",
    "    incorrect_images=images[incorrect]\n",
    "    \n",
    "    cls_pred=cls_pred[incorrect]\n",
    "    cls_true=cls_true[incorrect]\n",
    "    \n",
    "    plot_images(images=incorrect_images[0:9],cls_true=cls_true[0:9],cls_pred=cls_pred[0:9],title=title)\n",
    "    "
   ]
  },
  {
   "cell_type": "code",
   "execution_count": 23,
   "metadata": {},
   "outputs": [
    {
     "name": "stdout",
     "output_type": "stream",
     "text": [
      "Extracting MNIST_data/train-images-idx3-ubyte.gz\n",
      "Extracting MNIST_data/train-labels-idx1-ubyte.gz\n",
      "Extracting MNIST_data/t10k-images-idx3-ubyte.gz\n",
      "Extracting MNIST_data/t10k-labels-idx1-ubyte.gz\n",
      "---------------------------------------------------------\n",
      "Test loss: 0.09, test accuracy: 97.4%\n",
      "---------------------------------------------------------\n"
     ]
    },
    {
     "data": {
      "image/png": "[encoded data removed]",
      "text/plain": [
       "<Figure size 648x648 with 9 Axes>"
      ]
     },
     "metadata": {},
     "output_type": "display_data"
    },
    {
     "data": {
      "image/png": "[encoded data removed]",
      "text/plain": [
       "<Figure size 648x648 with 9 Axes>"
      ]
     },
     "metadata": {},
     "output_type": "display_data"
    }
   ],
   "source": [
    "x_test,y_test=load_data(mode='test')\n",
    "feed_dict_test = {x: x_test,y:y_test}\n",
    "loss_test,acc_test = sess.run([loss,accuracy],feed_dict=feed_dict_test)\n",
    "\n",
    "print('---------------------------------------------------------')\n",
    "print(\"Test loss: {0:.2f}, test accuracy: {1:.01%}\".format(loss_test, acc_test))\n",
    "print('---------------------------------------------------------')\n",
    "\n",
    "# Plot some of the correct and misclassified examples\n",
    "cls_pred = sess.run(cls_prediction, feed_dict=feed_dict_test)\n",
    "cls_true = np.argmax(y_test, axis=1)\n",
    "plot_images(x_test, cls_true, cls_pred, title='Correct Examples')\n",
    "plot_example_errors(x_test, cls_true, cls_pred, title='Misclassified Examples')"
   ]
  },
  {
   "cell_type": "code",
   "execution_count": null,
   "metadata": {},
   "outputs": [],
   "source": []
  }
 ],
 "metadata": {
  "kernelspec": {
   "display_name": "Python 3",
   "language": "python",
   "name": "python3"
  },
  "language_info": {
   "codemirror_mode": {
    "name": "ipython",
    "version": 3
   },
   "file_extension": ".py",
   "mimetype": "text/x-python",
   "name": "python",
   "nbconvert_exporter": "python",
   "pygments_lexer": "ipython3",
   "version": "3.6.5"
  }
 },
 "nbformat": 4,
 "nbformat_minor": 2
}
