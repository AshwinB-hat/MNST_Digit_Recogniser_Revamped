{
 "cells": [
  {
   "cell_type": "code",
   "execution_count": 36,
   "metadata": {
    "scrolled": true
   },
   "outputs": [],
   "source": [
    "import tensorflow as tf\n",
    "import numpy as np \n",
    "import matplotlib.pyplot as plt "
   ]
  },
  {
   "cell_type": "code",
   "execution_count": 3,
   "metadata": {},
   "outputs": [
    {
     "name": "stdout",
     "output_type": "stream",
     "text": [
      "WARNING:tensorflow:From <ipython-input-3-8bf8ae5a5303>:2: read_data_sets (from tensorflow.contrib.learn.python.learn.datasets.mnist) is deprecated and will be removed in a future version.\n",
      "Instructions for updating:\n",
      "Please use alternatives such as official/mnist/dataset.py from tensorflow/models.\n",
      "WARNING:tensorflow:From C:\\Users\\abhat\\AppData\\Local\\Continuum\\miniconda3\\lib\\site-packages\\tensorflow\\contrib\\learn\\python\\learn\\datasets\\mnist.py:260: maybe_download (from tensorflow.contrib.learn.python.learn.datasets.base) is deprecated and will be removed in a future version.\n",
      "Instructions for updating:\n",
      "Please write your own downloading logic.\n",
      "WARNING:tensorflow:From C:\\Users\\abhat\\AppData\\Local\\Continuum\\miniconda3\\lib\\site-packages\\tensorflow\\contrib\\learn\\python\\learn\\datasets\\mnist.py:262: extract_images (from tensorflow.contrib.learn.python.learn.datasets.mnist) is deprecated and will be removed in a future version.\n",
      "Instructions for updating:\n",
      "Please use tf.data to implement this functionality.\n",
      "Extracting MNIST_data/train-images-idx3-ubyte.gz\n",
      "WARNING:tensorflow:From C:\\Users\\abhat\\AppData\\Local\\Continuum\\miniconda3\\lib\\site-packages\\tensorflow\\contrib\\learn\\python\\learn\\datasets\\mnist.py:267: extract_labels (from tensorflow.contrib.learn.python.learn.datasets.mnist) is deprecated and will be removed in a future version.\n",
      "Instructions for updating:\n",
      "Please use tf.data to implement this functionality.\n",
      "Extracting MNIST_data/train-labels-idx1-ubyte.gz\n",
      "WARNING:tensorflow:From C:\\Users\\abhat\\AppData\\Local\\Continuum\\miniconda3\\lib\\site-packages\\tensorflow\\contrib\\learn\\python\\learn\\datasets\\mnist.py:110: dense_to_one_hot (from tensorflow.contrib.learn.python.learn.datasets.mnist) is deprecated and will be removed in a future version.\n",
      "Instructions for updating:\n",
      "Please use tf.one_hot on tensors.\n",
      "Extracting MNIST_data/t10k-images-idx3-ubyte.gz\n",
      "Extracting MNIST_data/t10k-labels-idx1-ubyte.gz\n",
      "WARNING:tensorflow:From C:\\Users\\abhat\\AppData\\Local\\Continuum\\miniconda3\\lib\\site-packages\\tensorflow\\contrib\\learn\\python\\learn\\datasets\\mnist.py:290: DataSet.__init__ (from tensorflow.contrib.learn.python.learn.datasets.mnist) is deprecated and will be removed in a future version.\n",
      "Instructions for updating:\n",
      "Please use alternatives such as official/mnist/dataset.py from tensorflow/models.\n"
     ]
    }
   ],
   "source": [
    "from tensorflow.examples.tutorials.mnist import input_data\n",
    "mnist = input_data.read_data_sets(\"MNIST_data/\", one_hot=True)\n"
   ]
  },
  {
   "cell_type": "code",
   "execution_count": 6,
   "metadata": {},
   "outputs": [],
   "source": [
    "img_h=img_w=28\n",
    "img_size_flat=img_h*img_w\n",
    "n_classes=10"
   ]
  },
  {
   "cell_type": "code",
   "execution_count": 25,
   "metadata": {},
   "outputs": [],
   "source": [
    "def load_data(mode='train'):\n",
    "    from tensorflow.examples.tutorials.mnist import input_data\n",
    "    mnist = input_data.read_data_sets(\"MNIST_data/\", one_hot=True)\n",
    "    if (mode=='test'):\n",
    "        x_test,y_test=mnist.test.images,mnist.test.labels\n",
    "        return x_test,y_test\n",
    "    elif (mode=='train'):\n",
    "        x_train,y_train,x_valid,y_valid = mnist.train.images,mnist.train.labels,mnist.validation.images,mnist.validation.labels\n",
    "        return x_train,y_train,x_valid,y_valid\n",
    "\n",
    "def randomize(x,y):\n",
    "    permutation = np.random.permutation(y.shape[0])\n",
    "    shuffled_x=x[permutation,:]\n",
    "    shuffled_y=y[permutation]\n",
    "    return shuffled_x,shuffled_y\n",
    "\n",
    "def get_next_batch(x,y,start,end):\n",
    "    x_batch = x[start:end]\n",
    "    y_batch = y[start:end]\n",
    "    return x_batch,y_batch"
   ]
  },
  {
   "cell_type": "code",
   "execution_count": 9,
   "metadata": {},
   "outputs": [
    {
     "name": "stdout",
     "output_type": "stream",
     "text": [
      "Extracting MNIST_data/train-images-idx3-ubyte.gz\n",
      "Extracting MNIST_data/train-labels-idx1-ubyte.gz\n",
      "Extracting MNIST_data/t10k-images-idx3-ubyte.gz\n",
      "Extracting MNIST_data/t10k-labels-idx1-ubyte.gz\n"
     ]
    }
   ],
   "source": [
    "x_train, y_train, x_valid, y_valid = load_data(mode='train')\n"
   ]
  },
  {
   "cell_type": "code",
   "execution_count": 10,
   "metadata": {},
   "outputs": [],
   "source": [
    "lr=0.001\n",
    "epochs=10\n",
    "batch_size=100"
   ]
  },
  {
   "cell_type": "code",
   "execution_count": 17,
   "metadata": {},
   "outputs": [],
   "source": [
    "def weight_variable(shape):\n",
    "    initer = tf.truncated_normal_initializer(stddev=0.01)\n",
    "    return tf.get_variable('W',dtype=tf.float32,shape=shape,initializer=initer)\n",
    "def bias_variable(shape):\n",
    "    initial=tf.constant(0.,shape=shape,dtype=tf.float32)\n",
    "    return tf.get_variable('b',dtype=tf.float32,initializer=initial)\n"
   ]
  },
  {
   "cell_type": "code",
   "execution_count": 15,
   "metadata": {},
   "outputs": [],
   "source": [
    "x = tf.placeholder(tf.float32, shape=[None, img_size_flat], name='X')\n",
    "y = tf.placeholder(tf.float32, shape=[None, n_classes], name='Y')"
   ]
  },
  {
   "cell_type": "code",
   "execution_count": 19,
   "metadata": {
    "scrolled": false
   },
   "outputs": [],
   "source": [
    "W=weight_variable(shape=[img_size_flat,n_classes])\n",
    "b=bias_variable(shape=[n_classes])\n",
    "\n",
    "output_logits = tf.matmul(x,W)+b\n",
    "\n",
    "y_pred = tf.nn.softmax(output_logits)"
   ]
  },
  {
   "cell_type": "code",
   "execution_count": 34,
   "metadata": {},
   "outputs": [],
   "source": [
    "cls_prediction = tf.argmax(output_logits,axis=1,name='predictions')\n",
    "\n",
    "loss = tf.reduce_mean(tf.nn.softmax_cross_entropy_with_logits(labels=y,logits=output_logits,name='loss'))\n",
    "optimizer = tf.train.AdamOptimizer(learning_rate=lr,name='Adam-op').minimize(loss)\n",
    "correct_prediction = tf.equal(tf.argmax(output_logits, 1), tf.argmax(y, 1), name='correct_pred')\n",
    "accuracy = tf.reduce_mean(tf.cast(correct_prediction, tf.float32), name='accuracy')\n"
   ]
  },
  {
   "cell_type": "code",
   "execution_count": 22,
   "metadata": {},
   "outputs": [],
   "source": [
    "init = tf.global_variables_initializer()"
   ]
  },
  {
   "cell_type": "code",
   "execution_count": 31,
   "metadata": {},
   "outputs": [
    {
     "name": "stderr",
     "output_type": "stream",
     "text": [
      "C:\\Users\\abhat\\AppData\\Local\\Continuum\\miniconda3\\lib\\site-packages\\tensorflow\\python\\client\\session.py:1714: UserWarning: An interactive session is already active. This can cause out-of-memory errors in some cases. You must explicitly call `InteractiveSession.close()` to release resources held by the other session(s).\n",
      "  warnings.warn('An interactive session is already active. This can '\n"
     ]
    },
    {
     "name": "stdout",
     "output_type": "stream",
     "text": [
      "Training epoch: 1\n",
      "iter   0:\t Loss=2.25,\tTraining Accuracy=25.0%\n",
      "iter 100:\t Loss=0.80,\tTraining Accuracy=88.0%\n",
      "iter 200:\t Loss=0.46,\tTraining Accuracy=91.0%\n",
      "iter 300:\t Loss=0.40,\tTraining Accuracy=96.0%\n",
      "iter 400:\t Loss=0.51,\tTraining Accuracy=85.0%\n",
      "iter 500:\t Loss=0.41,\tTraining Accuracy=87.0%\n",
      "---------------------------------------------------------\n",
      "Epoch: 1, validation loss: 0.40, validation accuracy: 88.9%\n",
      "---------------------------------------------------------\n",
      "Training epoch: 2\n",
      "iter   0:\t Loss=0.39,\tTraining Accuracy=88.0%\n",
      "iter 100:\t Loss=0.42,\tTraining Accuracy=85.0%\n",
      "iter 200:\t Loss=0.38,\tTraining Accuracy=87.0%\n",
      "iter 300:\t Loss=0.47,\tTraining Accuracy=87.0%\n",
      "iter 400:\t Loss=0.46,\tTraining Accuracy=89.0%\n",
      "iter 500:\t Loss=0.29,\tTraining Accuracy=90.0%\n",
      "---------------------------------------------------------\n",
      "Epoch: 2, validation loss: 0.35, validation accuracy: 89.9%\n",
      "---------------------------------------------------------\n",
      "Training epoch: 3\n",
      "iter   0:\t Loss=0.32,\tTraining Accuracy=91.0%\n",
      "iter 100:\t Loss=0.33,\tTraining Accuracy=90.0%\n",
      "iter 200:\t Loss=0.29,\tTraining Accuracy=92.0%\n",
      "iter 300:\t Loss=0.38,\tTraining Accuracy=91.0%\n",
      "iter 400:\t Loss=0.43,\tTraining Accuracy=85.0%\n",
      "iter 500:\t Loss=0.22,\tTraining Accuracy=94.0%\n",
      "---------------------------------------------------------\n",
      "Epoch: 3, validation loss: 0.32, validation accuracy: 90.2%\n",
      "---------------------------------------------------------\n",
      "Training epoch: 4\n",
      "iter   0:\t Loss=0.25,\tTraining Accuracy=91.0%\n",
      "iter 100:\t Loss=0.31,\tTraining Accuracy=89.0%\n",
      "iter 200:\t Loss=0.29,\tTraining Accuracy=90.0%\n",
      "iter 300:\t Loss=0.28,\tTraining Accuracy=87.0%\n",
      "iter 400:\t Loss=0.30,\tTraining Accuracy=90.0%\n",
      "iter 500:\t Loss=0.29,\tTraining Accuracy=92.0%\n",
      "---------------------------------------------------------\n",
      "Epoch: 4, validation loss: 0.30, validation accuracy: 91.5%\n",
      "---------------------------------------------------------\n",
      "Training epoch: 5\n",
      "iter   0:\t Loss=0.19,\tTraining Accuracy=93.0%\n",
      "iter 100:\t Loss=0.40,\tTraining Accuracy=90.0%\n",
      "iter 200:\t Loss=0.43,\tTraining Accuracy=90.0%\n",
      "iter 300:\t Loss=0.40,\tTraining Accuracy=91.0%\n",
      "iter 400:\t Loss=0.27,\tTraining Accuracy=93.0%\n",
      "iter 500:\t Loss=0.18,\tTraining Accuracy=95.0%\n",
      "---------------------------------------------------------\n",
      "Epoch: 5, validation loss: 0.29, validation accuracy: 91.5%\n",
      "---------------------------------------------------------\n",
      "Training epoch: 6\n",
      "iter   0:\t Loss=0.30,\tTraining Accuracy=90.0%\n",
      "iter 100:\t Loss=0.23,\tTraining Accuracy=93.0%\n",
      "iter 200:\t Loss=0.18,\tTraining Accuracy=94.0%\n",
      "iter 300:\t Loss=0.24,\tTraining Accuracy=91.0%\n",
      "iter 400:\t Loss=0.30,\tTraining Accuracy=93.0%\n",
      "iter 500:\t Loss=0.29,\tTraining Accuracy=91.0%\n",
      "---------------------------------------------------------\n",
      "Epoch: 6, validation loss: 0.29, validation accuracy: 91.1%\n",
      "---------------------------------------------------------\n",
      "Training epoch: 7\n",
      "iter   0:\t Loss=0.26,\tTraining Accuracy=91.0%\n",
      "iter 100:\t Loss=0.29,\tTraining Accuracy=92.0%\n",
      "iter 200:\t Loss=0.26,\tTraining Accuracy=92.0%\n",
      "iter 300:\t Loss=0.30,\tTraining Accuracy=91.0%\n",
      "iter 400:\t Loss=0.28,\tTraining Accuracy=91.0%\n",
      "iter 500:\t Loss=0.27,\tTraining Accuracy=90.0%\n",
      "---------------------------------------------------------\n",
      "Epoch: 7, validation loss: 0.29, validation accuracy: 91.3%\n",
      "---------------------------------------------------------\n",
      "Training epoch: 8\n",
      "iter   0:\t Loss=0.22,\tTraining Accuracy=91.0%\n",
      "iter 100:\t Loss=0.23,\tTraining Accuracy=95.0%\n",
      "iter 200:\t Loss=0.30,\tTraining Accuracy=91.0%\n",
      "iter 300:\t Loss=0.23,\tTraining Accuracy=93.0%\n",
      "iter 400:\t Loss=0.20,\tTraining Accuracy=95.0%\n",
      "iter 500:\t Loss=0.21,\tTraining Accuracy=95.0%\n",
      "---------------------------------------------------------\n",
      "Epoch: 8, validation loss: 0.30, validation accuracy: 90.9%\n",
      "---------------------------------------------------------\n",
      "Training epoch: 9\n",
      "iter   0:\t Loss=0.27,\tTraining Accuracy=92.0%\n",
      "iter 100:\t Loss=0.23,\tTraining Accuracy=95.0%\n",
      "iter 200:\t Loss=0.23,\tTraining Accuracy=93.0%\n",
      "iter 300:\t Loss=0.25,\tTraining Accuracy=93.0%\n",
      "iter 400:\t Loss=0.20,\tTraining Accuracy=95.0%\n",
      "iter 500:\t Loss=0.25,\tTraining Accuracy=92.0%\n",
      "---------------------------------------------------------\n",
      "Epoch: 9, validation loss: 0.28, validation accuracy: 91.6%\n",
      "---------------------------------------------------------\n",
      "Training epoch: 10\n",
      "iter   0:\t Loss=0.30,\tTraining Accuracy=92.0%\n",
      "iter 100:\t Loss=0.18,\tTraining Accuracy=95.0%\n",
      "iter 200:\t Loss=0.11,\tTraining Accuracy=99.0%\n",
      "iter 300:\t Loss=0.27,\tTraining Accuracy=89.0%\n",
      "iter 400:\t Loss=0.24,\tTraining Accuracy=91.0%\n",
      "iter 500:\t Loss=0.28,\tTraining Accuracy=89.0%\n",
      "---------------------------------------------------------\n",
      "Epoch: 10, validation loss: 0.29, validation accuracy: 91.7%\n",
      "---------------------------------------------------------\n",
      "Extracting MNIST_data/train-images-idx3-ubyte.gz\n",
      "Extracting MNIST_data/train-labels-idx1-ubyte.gz\n",
      "Extracting MNIST_data/t10k-images-idx3-ubyte.gz\n",
      "Extracting MNIST_data/t10k-labels-idx1-ubyte.gz\n",
      "---------------------------------------------------------\n",
      "Test loss: 0.27, test accuracy: 91.6%\n",
      "---------------------------------------------------------\n"
     ]
    }
   ],
   "source": [
    "sess = tf.InteractiveSession()\n",
    "sess.run(init)\n",
    "\n",
    "num_iter = int(len(y_train)/ batch_size)\n",
    "\n",
    "for epoch in range(epochs):\n",
    "    print('Training epoch: {}'.format(epoch+1))\n",
    "    x_train,y_train = randomize(x_train,y_train)\n",
    "    for iteration in range(num_iter):\n",
    "        start = iteration*batch_size\n",
    "        end = (iteration+1)*batch_size\n",
    "        x_batch,y_batch = get_next_batch(x_train,y_train,start,end)\n",
    "        \n",
    "        feed_dict_batch = {x:x_batch,y:y_batch}\n",
    "        sess.run(optimizer,feed_dict=feed_dict_batch)\n",
    "        if iteration%100 == 0:\n",
    "            loss_batch,acc_batch = sess.run([loss,accuracy],feed_dict=feed_dict_batch)\n",
    "            print(\"iter {0:3d}:\\t Loss={1:.2f},\\tTraining Accuracy={2:.01%}\".format(iteration, loss_batch, acc_batch))\n",
    "        \n",
    "    feed_dict_valid = {x: x_valid[:1000], y: y_valid[:1000]}\n",
    "    loss_valid,acc_valid = sess.run([loss,accuracy],feed_dict=feed_dict_valid)\n",
    "    print('---------------------------------------------------------')\n",
    "    print(\"Epoch: {0}, validation loss: {1:.2f}, validation accuracy: {2:.01%}\".\n",
    "          format(epoch + 1, loss_valid, acc_valid))\n",
    "    print('---------------------------------------------------------')\n",
    "\n",
    "x_test,y_test = load_data(mode='test')\n",
    "feed_dict_test={x:x_test[:1000],y:y_test[:1000]}\n",
    "loss_test, acc_test = sess.run([loss, accuracy], feed_dict=feed_dict_test)\n",
    "print('---------------------------------------------------------')\n",
    "print(\"Test loss: {0:.2f}, test accuracy: {1:.01%}\".format(loss_test, acc_test))\n",
    "print('---------------------------------------------------------')"
   ]
  },
  {
   "cell_type": "code",
   "execution_count": 38,
   "metadata": {},
   "outputs": [],
   "source": [
    "def plot_images(images,cls_true,cls_pred=None,title=None):\n",
    "    fig,axes = plt.subplots(3,3,figsize=(9,9))\n",
    "    fig.subplots_adjust(hspace=0.3,wspace=0.3)\n",
    "    for i,ax in enumerate(axes.flat):\n",
    "        ax.imshow(images[i].reshape(28,28),cmap='binary')\n",
    "        if cls_pred is None:\n",
    "            ax_title=\"True: {0}\".format(cls_true[i])\n",
    "        else:\n",
    "            ax_title=\"True: {0}, Pred: {1}\".format(cls_true[i],cls_pred[i])\n",
    "            ax.set_title(ax_title)\n",
    "            \n",
    "            ax.set_xticks([])\n",
    "            ax.set_yticks([])\n",
    "        if title:\n",
    "            plt.suptitle(title,size=20)\n",
    "        plt.show(block=False)\n",
    "\n",
    "def plot_example_errors(images,cls_true,cls_pred,title=None):\n",
    "    incorrect = np.logical_not(np.equal(cls_pred,cls_true))\n",
    "    incorrect_images= images[incorrect]\n",
    "    \n",
    "    cls_pred =cls_pred[incorrect]\n",
    "    cls_true = cls_true[incorrect]\n",
    "    \n",
    "    plot_images(images=incorrect_images[0:9],cls_true=cls_true[0:9],cls_pred=cls_pred[0:9],title=title)\n",
    "    "
   ]
  },
  {
   "cell_type": "code",
   "execution_count": 39,
   "metadata": {},
   "outputs": [
    {
     "name": "stdout",
     "output_type": "stream",
     "text": [
      "Extracting MNIST_data/train-images-idx3-ubyte.gz\n",
      "Extracting MNIST_data/train-labels-idx1-ubyte.gz\n",
      "Extracting MNIST_data/t10k-images-idx3-ubyte.gz\n",
      "Extracting MNIST_data/t10k-labels-idx1-ubyte.gz\n",
      "---------------------------------------------------------\n",
      "Test loss: 0.27, test accuracy: 91.6%\n",
      "---------------------------------------------------------\n"
     ]
    },
    {
     "data": {
      "image/png": "[encoded data removed]",
      "text/plain": [
       "<Figure size 648x648 with 9 Axes>"
      ]
     },
     "metadata": {},
     "output_type": "display_data"
    },
    {
     "data": {
      "text/plain": [
       "<Figure size 432x288 with 0 Axes>"
      ]
     },
     "metadata": {},
     "output_type": "display_data"
    },
    {
     "data": {
      "text/plain": [
       "<Figure size 432x288 with 0 Axes>"
      ]
     },
     "metadata": {},
     "output_type": "display_data"
    },
    {
     "data": {
      "text/plain": [
       "<Figure size 432x288 with 0 Axes>"
      ]
     },
     "metadata": {},
     "output_type": "display_data"
    },
    {
     "data": {
      "text/plain": [
       "<Figure size 432x288 with 0 Axes>"
      ]
     },
     "metadata": {},
     "output_type": "display_data"
    },
    {
     "data": {
      "text/plain": [
       "<Figure size 432x288 with 0 Axes>"
      ]
     },
     "metadata": {},
     "output_type": "display_data"
    },
    {
     "data": {
      "text/plain": [
       "<Figure size 432x288 with 0 Axes>"
      ]
     },
     "metadata": {},
     "output_type": "display_data"
    },
    {
     "data": {
      "text/plain": [
       "<Figure size 432x288 with 0 Axes>"
      ]
     },
     "metadata": {},
     "output_type": "display_data"
    },
    {
     "data": {
      "text/plain": [
       "<Figure size 432x288 with 0 Axes>"
      ]
     },
     "metadata": {},
     "output_type": "display_data"
    },
    {
     "data": {
      "image/png": "[encoded data removed]",
      "text/plain": [
       "<Figure size 648x648 with 9 Axes>"
      ]
     },
     "metadata": {},
     "output_type": "display_data"
    },
    {
     "data": {
      "text/plain": [
       "<Figure size 432x288 with 0 Axes>"
      ]
     },
     "metadata": {},
     "output_type": "display_data"
    },
    {
     "data": {
      "text/plain": [
       "<Figure size 432x288 with 0 Axes>"
      ]
     },
     "metadata": {},
     "output_type": "display_data"
    },
    {
     "data": {
      "text/plain": [
       "<Figure size 432x288 with 0 Axes>"
      ]
     },
     "metadata": {},
     "output_type": "display_data"
    },
    {
     "data": {
      "text/plain": [
       "<Figure size 432x288 with 0 Axes>"
      ]
     },
     "metadata": {},
     "output_type": "display_data"
    },
    {
     "data": {
      "text/plain": [
       "<Figure size 432x288 with 0 Axes>"
      ]
     },
     "metadata": {},
     "output_type": "display_data"
    },
    {
     "data": {
      "text/plain": [
       "<Figure size 432x288 with 0 Axes>"
      ]
     },
     "metadata": {},
     "output_type": "display_data"
    },
    {
     "data": {
      "text/plain": [
       "<Figure size 432x288 with 0 Axes>"
      ]
     },
     "metadata": {},
     "output_type": "display_data"
    },
    {
     "data": {
      "text/plain": [
       "<Figure size 432x288 with 0 Axes>"
      ]
     },
     "metadata": {},
     "output_type": "display_data"
    }
   ],
   "source": [
    "x_test,y_test = load_data(mode='test')\n",
    "feed_dict_test={x:x_test[:1000],y:y_test[:1000]}\n",
    "loss_test, acc_test = sess.run([loss, accuracy], feed_dict=feed_dict_test)\n",
    "print('---------------------------------------------------------')\n",
    "print(\"Test loss: {0:.2f}, test accuracy: {1:.01%}\".format(loss_test, acc_test))\n",
    "print('---------------------------------------------------------')\n",
    "\n",
    "cls_pred = sess.run(cls_prediction, feed_dict=feed_dict_test)\n",
    "cls_true = np.argmax(y_test[:1000], axis=1)\n",
    "plot_images(x_test, cls_true, cls_pred, title='Correct Examples')\n",
    "plot_example_errors(x_test[:1000], cls_true, cls_pred, title='Misclassified Examples')\n",
    "plt.show()\n"
   ]
  },
  {
   "cell_type": "code",
   "execution_count": null,
   "metadata": {},
   "outputs": [],
   "source": []
  }
 ],
 "metadata": {
  "kernelspec": {
   "display_name": "Python 3",
   "language": "python",
   "name": "python3"
  },
  "language_info": {
   "codemirror_mode": {
    "name": "ipython",
    "version": 3
   },
   "file_extension": ".py",
   "mimetype": "text/x-python",
   "name": "python",
   "nbconvert_exporter": "python",
   "pygments_lexer": "ipython3",
   "version": "3.6.5"
  }
 },
 "nbformat": 4,
 "nbformat_minor": 2
}
